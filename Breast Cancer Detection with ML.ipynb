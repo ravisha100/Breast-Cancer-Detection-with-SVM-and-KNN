{
 "cells": [
  {
   "cell_type": "code",
   "execution_count": 16,
   "metadata": {},
   "outputs": [
    {
     "name": "stdout",
     "output_type": "stream",
     "text": [
      "Python:3.7.3 (default, Mar 27 2019, 16:54:48) \n",
      "[Clang 4.0.1 (tags/RELEASE_401/final)]\n",
      "Numpy:1.16.2\n",
      "Matplotlib:3.1.0\n",
      "Pandas:0.25.1\n",
      "Sklearn:0.22.2.post1\n"
     ]
    }
   ],
   "source": [
    "import sys\n",
    "import numpy as np\n",
    "import matplotlib\n",
    "import pandas\n",
    "import sklearn\n",
    "\n",
    "print('Python:{}'.format(sys.version))\n",
    "print('Numpy:{}'.format(numpy.__version__))\n",
    "print('Matplotlib:{}'.format(matplotlib.__version__))\n",
    "print('Pandas:{}'.format(pandas.__version__))\n",
    "print('Sklearn:{}'.format(sklearn.__version__))"
   ]
  },
  {
   "cell_type": "code",
   "execution_count": 19,
   "metadata": {},
   "outputs": [],
   "source": [
    "from sklearn import preprocessing\n",
    "from sklearn.model_selection import train_test_split\n",
    "from sklearn.neighbors import KNeighborsClassifier\n",
    "from sklearn.svm import SVC\n",
    "from sklearn import model_selection\n",
    "from sklearn.metrics import classification_report, accuracy_score\n",
    "from pandas.plotting import scatter_matrix\n",
    "import matplotlib.pyplot as plt\n",
    "import pandas as pd\n"
   ]
  },
  {
   "cell_type": "code",
   "execution_count": 23,
   "metadata": {},
   "outputs": [],
   "source": [
    "# Load the dataset \n",
    "url = \"https://archive.ics.uci.edu/ml/machine-learning-databases/breast-cancer-wisconsin/breast-cancer-wisconsin.data\"\n",
    "names = ['id', 'clump_thickness', 'uniform_cell size', 'uniform_cell_shape', 'marginal_adhesion', \n",
    "        'single_epithelial_size', 'bare_nuclei', 'balnd_chromatin', 'normal_nuclei', 'mitosis', 'class']\n",
    "df = pd.read_csv(url, names=names)"
   ]
  },
  {
   "cell_type": "code",
   "execution_count": 24,
   "metadata": {},
   "outputs": [
    {
     "data": {
      "text/html": [
       "<div>\n",
       "<style scoped>\n",
       "    .dataframe tbody tr th:only-of-type {\n",
       "        vertical-align: middle;\n",
       "    }\n",
       "\n",
       "    .dataframe tbody tr th {\n",
       "        vertical-align: top;\n",
       "    }\n",
       "\n",
       "    .dataframe thead th {\n",
       "        text-align: right;\n",
       "    }\n",
       "</style>\n",
       "<table border=\"1\" class=\"dataframe\">\n",
       "  <thead>\n",
       "    <tr style=\"text-align: right;\">\n",
       "      <th></th>\n",
       "      <th>id</th>\n",
       "      <th>clump_thickness</th>\n",
       "      <th>uniform_cell size</th>\n",
       "      <th>uniform_cell_shape</th>\n",
       "      <th>marginal_adhesion</th>\n",
       "      <th>single_epithelial_size</th>\n",
       "      <th>bare_nuclei</th>\n",
       "      <th>balnd_chromatin</th>\n",
       "      <th>normal_nuclei</th>\n",
       "      <th>mitosis</th>\n",
       "      <th>class</th>\n",
       "    </tr>\n",
       "  </thead>\n",
       "  <tbody>\n",
       "    <tr>\n",
       "      <td>0</td>\n",
       "      <td>1000025</td>\n",
       "      <td>5</td>\n",
       "      <td>1</td>\n",
       "      <td>1</td>\n",
       "      <td>1</td>\n",
       "      <td>2</td>\n",
       "      <td>1</td>\n",
       "      <td>3</td>\n",
       "      <td>1</td>\n",
       "      <td>1</td>\n",
       "      <td>2</td>\n",
       "    </tr>\n",
       "    <tr>\n",
       "      <td>1</td>\n",
       "      <td>1002945</td>\n",
       "      <td>5</td>\n",
       "      <td>4</td>\n",
       "      <td>4</td>\n",
       "      <td>5</td>\n",
       "      <td>7</td>\n",
       "      <td>10</td>\n",
       "      <td>3</td>\n",
       "      <td>2</td>\n",
       "      <td>1</td>\n",
       "      <td>2</td>\n",
       "    </tr>\n",
       "    <tr>\n",
       "      <td>2</td>\n",
       "      <td>1015425</td>\n",
       "      <td>3</td>\n",
       "      <td>1</td>\n",
       "      <td>1</td>\n",
       "      <td>1</td>\n",
       "      <td>2</td>\n",
       "      <td>2</td>\n",
       "      <td>3</td>\n",
       "      <td>1</td>\n",
       "      <td>1</td>\n",
       "      <td>2</td>\n",
       "    </tr>\n",
       "    <tr>\n",
       "      <td>3</td>\n",
       "      <td>1016277</td>\n",
       "      <td>6</td>\n",
       "      <td>8</td>\n",
       "      <td>8</td>\n",
       "      <td>1</td>\n",
       "      <td>3</td>\n",
       "      <td>4</td>\n",
       "      <td>3</td>\n",
       "      <td>7</td>\n",
       "      <td>1</td>\n",
       "      <td>2</td>\n",
       "    </tr>\n",
       "    <tr>\n",
       "      <td>4</td>\n",
       "      <td>1017023</td>\n",
       "      <td>4</td>\n",
       "      <td>1</td>\n",
       "      <td>1</td>\n",
       "      <td>3</td>\n",
       "      <td>2</td>\n",
       "      <td>1</td>\n",
       "      <td>3</td>\n",
       "      <td>1</td>\n",
       "      <td>1</td>\n",
       "      <td>2</td>\n",
       "    </tr>\n",
       "  </tbody>\n",
       "</table>\n",
       "</div>"
      ],
      "text/plain": [
       "        id  clump_thickness  uniform_cell size  uniform_cell_shape  \\\n",
       "0  1000025                5                  1                   1   \n",
       "1  1002945                5                  4                   4   \n",
       "2  1015425                3                  1                   1   \n",
       "3  1016277                6                  8                   8   \n",
       "4  1017023                4                  1                   1   \n",
       "\n",
       "   marginal_adhesion  single_epithelial_size bare_nuclei  balnd_chromatin  \\\n",
       "0                  1                       2           1                3   \n",
       "1                  5                       7          10                3   \n",
       "2                  1                       2           2                3   \n",
       "3                  1                       3           4                3   \n",
       "4                  3                       2           1                3   \n",
       "\n",
       "   normal_nuclei  mitosis  class  \n",
       "0              1        1      2  \n",
       "1              2        1      2  \n",
       "2              1        1      2  \n",
       "3              7        1      2  \n",
       "4              1        1      2  "
      ]
     },
     "execution_count": 24,
     "metadata": {},
     "output_type": "execute_result"
    }
   ],
   "source": [
    "df.head()"
   ]
  },
  {
   "cell_type": "code",
   "execution_count": 30,
   "metadata": {},
   "outputs": [
    {
     "name": "stdout",
     "output_type": "stream",
     "text": [
      "[RangeIndex(start=0, stop=699, step=1), Index(['clump_thickness', 'uniform_cell size', 'uniform_cell_shape',\n",
      "       'marginal_adhesion', 'single_epithelial_size', 'bare_nuclei',\n",
      "       'balnd_chromatin', 'normal_nuclei', 'mitosis', 'class'],\n",
      "      dtype='object')]\n",
      "(699, 10)\n"
     ]
    }
   ],
   "source": [
    "#preprocessing the data\n",
    "df.replace(\"?\", -99999, inplace=True)\n",
    "print(df.axes)\n",
    "\n",
    "#Drop the ID Column since it doesn't do anything in machine learning\n",
    "#df.drop(['id', 1, inplace = True])\n",
    "\n",
    "#print the shape of the dataset\n",
    "print(df.shape)"
   ]
  },
  {
   "cell_type": "code",
   "execution_count": 33,
   "metadata": {},
   "outputs": [
    {
     "name": "stdout",
     "output_type": "stream",
     "text": [
      "clump_thickness           5\n",
      "uniform_cell size         1\n",
      "uniform_cell_shape        1\n",
      "marginal_adhesion         1\n",
      "single_epithelial_size    2\n",
      "bare_nuclei               1\n",
      "balnd_chromatin           3\n",
      "normal_nuclei             1\n",
      "mitosis                   1\n",
      "class                     2\n",
      "Name: 0, dtype: object\n",
      "       clump_thickness  uniform_cell size  uniform_cell_shape  \\\n",
      "count       699.000000         699.000000          699.000000   \n",
      "mean          4.417740           3.134478            3.207439   \n",
      "std           2.815741           3.051459            2.971913   \n",
      "min           1.000000           1.000000            1.000000   \n",
      "25%           2.000000           1.000000            1.000000   \n",
      "50%           4.000000           1.000000            1.000000   \n",
      "75%           6.000000           5.000000            5.000000   \n",
      "max          10.000000          10.000000           10.000000   \n",
      "\n",
      "       marginal_adhesion  single_epithelial_size  balnd_chromatin  \\\n",
      "count         699.000000              699.000000       699.000000   \n",
      "mean            2.806867                3.216023         3.437768   \n",
      "std             2.855379                2.214300         2.438364   \n",
      "min             1.000000                1.000000         1.000000   \n",
      "25%             1.000000                2.000000         2.000000   \n",
      "50%             1.000000                2.000000         3.000000   \n",
      "75%             4.000000                4.000000         5.000000   \n",
      "max            10.000000               10.000000        10.000000   \n",
      "\n",
      "       normal_nuclei     mitosis       class  \n",
      "count     699.000000  699.000000  699.000000  \n",
      "mean        2.866953    1.589413    2.689557  \n",
      "std         3.053634    1.715078    0.951273  \n",
      "min         1.000000    1.000000    2.000000  \n",
      "25%         1.000000    1.000000    2.000000  \n",
      "50%         1.000000    1.000000    2.000000  \n",
      "75%         4.000000    1.000000    4.000000  \n",
      "max        10.000000   10.000000    4.000000  \n"
     ]
    }
   ],
   "source": [
    "#Do data set visualization \n",
    "print(df.loc[0])\n",
    "print(df.describe())"
   ]
  },
  {
   "cell_type": "code",
   "execution_count": 34,
   "metadata": {},
   "outputs": [
    {
     "data": {
      "text/plain": [
       "<function matplotlib.pyplot.show(*args, **kw)>"
      ]
     },
     "execution_count": 34,
     "metadata": {},
     "output_type": "execute_result"
    },
    {
     "data": {
      "image/png": "[encoded data removed]",
      "text/plain": [
       "<Figure size 720x720 with 9 Axes>"
      ]
     },
     "metadata": {
      "needs_background": "light"
     },
     "output_type": "display_data"
    }
   ],
   "source": [
    "#plot histograms for each variable\n",
    "df.hist(figsize= (10,10))\n",
    "plt.show"
   ]
  },
  {
   "cell_type": "code",
   "execution_count": null,
   "metadata": {},
   "outputs": [],
   "source": []
  }
 ],
 "metadata": {
  "kernelspec": {
   "display_name": "Python 3",
   "language": "python",
   "name": "python3"
  },
  "language_info": {
   "codemirror_mode": {
    "name": "ipython",
    "version": 3
   },
   "file_extension": ".py",
   "mimetype": "text/x-python",
   "name": "python",
   "nbconvert_exporter": "python",
   "pygments_lexer": "ipython3",
   "version": "3.7.3"
  }
 },
 "nbformat": 4,
 "nbformat_minor": 2
}
